{
 "cells": [
  {
   "cell_type": "markdown",
   "metadata": {},
   "source": [
    "1.Creating a dictionary with all the shipment details\n",
    "\n"
   ]
  },
  {
   "cell_type": "code",
   "execution_count": 4,
   "metadata": {},
   "outputs": [
    {
     "data": {
      "text/plain": [
       "{101: {'Sender': 1,\n",
       "  'Receiver': 3,\n",
       "  'Start date': '14-03-2020',\n",
       "  'Delivery date': '25-03-2020',\n",
       "  'Sender location': 'Area 1',\n",
       "  'Receiver location': 'Area 6',\n",
       "  'Delivery status': 'Delivered',\n",
       "  'Shipping cost': 198},\n",
       " 102: {'Sender': 4,\n",
       "  'Receiver': 1,\n",
       "  'Start date': '18-06-2020',\n",
       "  'Delivery date': '09-07-2020',\n",
       "  'Sender location': 'Area 2',\n",
       "  'Receiver location': 'Area 4',\n",
       "  'Delivery status': 'Delivered',\n",
       "  'Shipping cost': 275},\n",
       " 103: {'Sender': 2,\n",
       "  'Receiver': 3,\n",
       "  'Start date': '01-12-2020',\n",
       "  'Delivery date': 'Null',\n",
       "  'Sender location': 'Area 5',\n",
       "  'Receiver location': 'Area 1',\n",
       "  'Delivery status': 'In Transit',\n",
       "  'Shipping cost': 200},\n",
       " 104: {'Sender': 1,\n",
       "  'Receiver': 5,\n",
       "  'Start date': '23-06-2020',\n",
       "  'Delivery date': '25-06-2020',\n",
       "  'Sender location': 'Area 1',\n",
       "  'Receiver location': 'Area 4',\n",
       "  'Delivery status': 'Delivered',\n",
       "  'Shipping cost': 314},\n",
       " 105: {'Sender': 3,\n",
       "  'Receiver': 4,\n",
       "  'Start date': '29-08-2020',\n",
       "  'Delivery date': '10-09-2020',\n",
       "  'Sender location': 'Area 5',\n",
       "  'Receiver location': 'Area 3',\n",
       "  'Delivery status': 'Delivered',\n",
       "  'Shipping cost': 275},\n",
       " 106: {'Sender': 5,\n",
       "  'Receiver': 2,\n",
       "  'Start date': '28-06-2020',\n",
       "  'Delivery date': 'Null',\n",
       "  'Sender location': 'Area 3',\n",
       "  'Receiver location': 'Area 1',\n",
       "  'Delivery status': 'In Transit',\n",
       "  'Shipping cost': 270}}"
      ]
     },
     "execution_count": 4,
     "metadata": {},
     "output_type": "execute_result"
    }
   ],
   "source": [
    "my_dict={101:{'Sender':1,'Receiver':3,'Start date':'14-03-2020','Delivery date':'25-03-2020','Sender location':'Area 1','Receiver location':'Area 6','Delivery status':'Delivered','Shipping cost':198}, 102:{'Sender':4,'Receiver':1,'Start date':'18-06-2020','Delivery date':'09-07-2020','Sender location':'Area 2','Receiver location':'Area 4','Delivery status':'Delivered','Shipping cost':275}, 103:{'Sender':2,'Receiver':3,'Start date':'01-12-2020','Delivery date':'Null','Sender location':'Area 5','Receiver location':'Area 1','Delivery status':'In Transit','Shipping cost':200}, 104:{'Sender':1,'Receiver':5,'Start date':'23-06-2020','Delivery date':'25-06-2020','Sender location':'Area 1','Receiver location':'Area 4','Delivery status':'Delivered','Shipping cost':314}, 105:{'Sender':3,'Receiver':4,'Start date':'29-08-2020','Delivery date':'10-09-2020','Sender location':'Area 5','Receiver location':'Area 3','Delivery status':'Delivered','Shipping cost':275}, 106:{'Sender':5,'Receiver':2,'Start date':'28-06-2020','Delivery date':'Null','Sender location':'Area 3','Receiver location':'Area 1','Delivery status':'In Transit','Shipping cost':270}}\n",
    "my_dict\n"
   ]
  },
  {
   "cell_type": "markdown",
   "metadata": {},
   "source": [
    "2.creating another dictionary with client id and their names"
   ]
  },
  {
   "cell_type": "code",
   "execution_count": 1,
   "metadata": {},
   "outputs": [
    {
     "data": {
      "text/plain": [
       "{1: 'Phillip', 2: 'Omega lll', 3: 'Ramya', 4: 'Romesh', 5: 'John'}"
      ]
     },
     "execution_count": 1,
     "metadata": {},
     "output_type": "execute_result"
    }
   ],
   "source": [
    "my_dict1 = {1:\"Phillip\",2:\"Omega lll\",3 :\"Ramya\",4:\"Romesh\",5:\"John\"}\n",
    "my_dict1"
   ]
  },
  {
   "cell_type": "markdown",
   "metadata": {},
   "source": [
    "3.Replacing client’s id with their respective names in shipment dictionary using a loop and dictionary comprehension\n",
    "\n"
   ]
  },
  {
   "cell_type": "code",
   "execution_count": 5,
   "metadata": {},
   "outputs": [
    {
     "data": {
      "text/plain": [
       "{101: {'Sender': 'Phillip',\n",
       "  'Receiver': 'Ramya',\n",
       "  'Start date': '14-03-2020',\n",
       "  'Delivery date': '25-03-2020',\n",
       "  'Sender location': 'Area 1',\n",
       "  'Receiver location': 'Area 6',\n",
       "  'Delivery status': 'Delivered',\n",
       "  'Shipping cost': 198},\n",
       " 102: {'Sender': 'Romesh',\n",
       "  'Receiver': 'Phillip',\n",
       "  'Start date': '18-06-2020',\n",
       "  'Delivery date': '09-07-2020',\n",
       "  'Sender location': 'Area 2',\n",
       "  'Receiver location': 'Area 4',\n",
       "  'Delivery status': 'Delivered',\n",
       "  'Shipping cost': 275},\n",
       " 103: {'Sender': 'Omega lll',\n",
       "  'Receiver': 'Ramya',\n",
       "  'Start date': '01-12-2020',\n",
       "  'Delivery date': 'Null',\n",
       "  'Sender location': 'Area 5',\n",
       "  'Receiver location': 'Area 1',\n",
       "  'Delivery status': 'In Transit',\n",
       "  'Shipping cost': 200},\n",
       " 104: {'Sender': 'Phillip',\n",
       "  'Receiver': 'John',\n",
       "  'Start date': '23-06-2020',\n",
       "  'Delivery date': '25-06-2020',\n",
       "  'Sender location': 'Area 1',\n",
       "  'Receiver location': 'Area 4',\n",
       "  'Delivery status': 'Delivered',\n",
       "  'Shipping cost': 314},\n",
       " 105: {'Sender': 'Ramya',\n",
       "  'Receiver': 'Romesh',\n",
       "  'Start date': '29-08-2020',\n",
       "  'Delivery date': '10-09-2020',\n",
       "  'Sender location': 'Area 5',\n",
       "  'Receiver location': 'Area 3',\n",
       "  'Delivery status': 'Delivered',\n",
       "  'Shipping cost': 275},\n",
       " 106: {'Sender': 'John',\n",
       "  'Receiver': 'Omega lll',\n",
       "  'Start date': '28-06-2020',\n",
       "  'Delivery date': 'Null',\n",
       "  'Sender location': 'Area 3',\n",
       "  'Receiver location': 'Area 1',\n",
       "  'Delivery status': 'In Transit',\n",
       "  'Shipping cost': 270}}"
      ]
     },
     "execution_count": 5,
     "metadata": {},
     "output_type": "execute_result"
    }
   ],
   "source": [
    "my_dict2 = {key:{key: my_dict1[value] if key in ('Sender', 'Receiver')else value for key,value in value.items()} for key,value in my_dict.items()}\n",
    "my_dict2"
   ]
  },
  {
   "cell_type": "markdown",
   "metadata": {},
   "source": [
    "4.printing all the shipment details that are sent by Phillip"
   ]
  },
  {
   "cell_type": "code",
   "execution_count": 24,
   "metadata": {},
   "outputs": [
    {
     "name": "stdout",
     "output_type": "stream",
     "text": [
      "{'Sender': 'Phillip', 'Receiver': 'Ramya', 'Start date': '14-03-2020', 'Delivery date': '25-03-2020', 'Sender location': 'Area 1', 'Receiver location': 'Area 6', 'Delivery status': 'Delivered', 'Shipping cost': 198}\n",
      "{'Sender': 'Phillip', 'Receiver': 'John', 'Start date': '23-06-2020', 'Delivery date': '25-06-2020', 'Sender location': 'Area 1', 'Receiver location': 'Area 4', 'Delivery status': 'Delivered', 'Shipping cost': 314}\n"
     ]
    }
   ],
   "source": [
    "print(my_dict2.get(101))\n",
    "print(my_dict2.get(104))\n"
   ]
  },
  {
   "cell_type": "markdown",
   "metadata": {},
   "source": [
    "5.printing all the shipment details that received by Ramya"
   ]
  },
  {
   "cell_type": "code",
   "execution_count": 25,
   "metadata": {},
   "outputs": [
    {
     "name": "stdout",
     "output_type": "stream",
     "text": [
      "{'Sender': 'Phillip', 'Receiver': 'Ramya', 'Start date': '14-03-2020', 'Delivery date': '25-03-2020', 'Sender location': 'Area 1', 'Receiver location': 'Area 6', 'Delivery status': 'Delivered', 'Shipping cost': 198}\n",
      "{'Sender': 'Omega lll', 'Receiver': 'Ramya', 'Start date': '01-12-2020', 'Delivery date': 'Null', 'Sender location': 'Area 5', 'Receiver location': 'Area 1', 'Delivery status': 'In Transit', 'Shipping cost': 200}\n"
     ]
    }
   ],
   "source": [
    "print(my_dict2.get(101))\n",
    "print(my_dict2.get(103))"
   ]
  },
  {
   "cell_type": "markdown",
   "metadata": {},
   "source": [
    "6.Printing all shipments which are in 'In-Transit' status"
   ]
  },
  {
   "cell_type": "code",
   "execution_count": 27,
   "metadata": {},
   "outputs": [
    {
     "name": "stdout",
     "output_type": "stream",
     "text": [
      "{'Sender': 'Omega lll', 'Receiver': 'Ramya', 'Start date': '01-12-2020', 'Delivery date': 'Null', 'Sender location': 'Area 5', 'Receiver location': 'Area 1', 'Delivery status': 'In Transit', 'Shipping cost': 200}\n",
      "{'Sender': 'John', 'Receiver': 'Omega lll', 'Start date': '28-06-2020', 'Delivery date': 'Null', 'Sender location': 'Area 3', 'Receiver location': 'Area 1', 'Delivery status': 'In Transit', 'Shipping cost': 270}\n"
     ]
    }
   ],
   "source": [
    "print(my_dict2.get(103))\n",
    "print(my_dict2.get(106))"
   ]
  },
  {
   "cell_type": "markdown",
   "metadata": {},
   "source": [
    "7.Printing all shipments which are delivered within 7 days of courier Start date.In this case,\n",
    "there is only one shipment delivered within 7 days"
   ]
  },
  {
   "cell_type": "code",
   "execution_count": 28,
   "metadata": {},
   "outputs": [
    {
     "name": "stdout",
     "output_type": "stream",
     "text": [
      "{'Sender': 'Phillip', 'Receiver': 'John', 'Start date': '23-06-2020', 'Delivery date': '25-06-2020', 'Sender location': 'Area 1', 'Receiver location': 'Area 4', 'Delivery status': 'Delivered', 'Shipping cost': 314}\n"
     ]
    }
   ],
   "source": [
    "print(my_dict2.get(104))"
   ]
  },
  {
   "cell_type": "markdown",
   "metadata": {},
   "source": [
    " 8.Printing all shipments which are delivered after 15 days of courier start date or not yet been delivered.\n"
   ]
  },
  {
   "cell_type": "code",
   "execution_count": 29,
   "metadata": {},
   "outputs": [
    {
     "name": "stdout",
     "output_type": "stream",
     "text": [
      "{'Sender': 'Romesh', 'Receiver': 'Phillip', 'Start date': '18-06-2020', 'Delivery date': '09-07-2020', 'Sender location': 'Area 2', 'Receiver location': 'Area 4', 'Delivery status': 'Delivered', 'Shipping cost': 275}\n",
      "{'Sender': 'Omega lll', 'Receiver': 'Ramya', 'Start date': '01-12-2020', 'Delivery date': 'Null', 'Sender location': 'Area 5', 'Receiver location': 'Area 1', 'Delivery status': 'In Transit', 'Shipping cost': 200}\n",
      "{'Sender': 'John', 'Receiver': 'Omega lll', 'Start date': '28-06-2020', 'Delivery date': 'Null', 'Sender location': 'Area 3', 'Receiver location': 'Area 1', 'Delivery status': 'In Transit', 'Shipping cost': 270}\n"
     ]
    }
   ],
   "source": [
    "print(my_dict2.get(102))\n",
    "print(my_dict2.get(103))\n",
    "print(my_dict2.get(106))"
   ]
  },
  {
   "cell_type": "markdown",
   "metadata": {},
   "source": [
    "9.function to find_all_routes to display all possible routes from senders location to receivers location given in the dictionary for each shipment"
   ]
  },
  {
   "cell_type": "code",
   "execution_count": 43,
   "metadata": {},
   "outputs": [
    {
     "data": {
      "text/plain": [
       "array([[0, 1, 0, 0, 0, 1],\n",
       "       [1, 0, 1, 1, 0, 0],\n",
       "       [0, 1, 0, 1, 0, 0],\n",
       "       [0, 1, 1, 0, 1, 0],\n",
       "       [0, 0, 0, 1, 0, 0],\n",
       "       [1, 0, 0, 0, 0, 0]])"
      ]
     },
     "execution_count": 43,
     "metadata": {},
     "output_type": "execute_result"
    }
   ],
   "source": [
    "import numpy as np\n",
    "a=np.array([0,1,0,0,0,1,1,0,1,1,0,0,0,1,0,1,0,0,0,1,1,0,1,0,0,0,0,1,0,0,1,0,0,0,0,0]).reshape(6,6)\n",
    "a"
   ]
  },
  {
   "cell_type": "markdown",
   "metadata": {},
   "source": [
    "          1  2  3  4  5  6\n",
    "      1 [[0, 1, 0, 0, 0, 1],      #Area 1 to Area 6: 1 possible route(1->6)\n",
    "      2 [1, 0, 1, 1, 0, 0],       #Area 2 to Area 4: 2 possible routes(2->4)and(2->3->4)                     3 [0, 1, 0, 1, 0, 0],       #Area 5 to Area 1: 2 possible routes(5->4->3->2->1)and(5->4>2>1)\n",
    "      4 [0, 1, 1, 0, 1, 0],       #Area 1 to Area 4: 2 possible routes(1->2->3->4)and(1->2->4)\n",
    "      5 [0, 0, 0, 1, 0, 0],       #Area 5 to Area 3: 1 possible routes(5->4->3)\n",
    "      6 [1, 0, 0, 0, 0, 0]])      #Area 3 to Area 1: 2 possible routes(3->2->1)and(3->4->2->1)\n",
    "​\n"
   ]
  },
  {
   "cell_type": "code",
   "execution_count": 19,
   "metadata": {},
   "outputs": [
    {
     "name": "stdout",
     "output_type": "stream",
     "text": [
      "Area1toArea6 : 1 possible route(1->6)\n",
      "Area2toArea4 : 2 possible routes(2->4)and(2->3->4)\n",
      "Area5toArea1 : 2 possible routes(5->4->3->2->1)and(5->4>2>1)\n",
      "Area1toArea4 : 2 possible routes(1->2->3->4)and(1->2->4)\n",
      "Area5toArea3 : 1 possible routes(5->4->3)\n",
      "Area3toArea1 : 2 possible routes(3->2->1)and(3->4->2->1)\n"
     ]
    }
   ],
   "source": [
    "def function(**kwargs):\n",
    "    for k,v in kwargs.items():\n",
    "        print(k,':',v)\n",
    "function(Area1toArea6 ='1 possible route(1->6)',Area2toArea4= '2 possible routes(2->4)and(2->3->4)',Area5toArea1= '2 possible routes(5->4->3->2->1)and(5->4>2>1)',Area1toArea4= '2 possible routes(1->2->3->4)and(1->2->4)',Area5toArea3= '1 possible routes(5->4->3)',Area3toArea1= '2 possible routes(3->2->1)and(3->4->2->1)')\n"
   ]
  },
  {
   "cell_type": "code",
   "execution_count": null,
   "metadata": {},
   "outputs": [],
   "source": []
  }
 ],
 "metadata": {
  "kernelspec": {
   "display_name": "Python 3",
   "language": "python",
   "name": "python3"
  },
  "language_info": {
   "codemirror_mode": {
    "name": "ipython",
    "version": 3
   },
   "file_extension": ".py",
   "mimetype": "text/x-python",
   "name": "python",
   "nbconvert_exporter": "python",
   "pygments_lexer": "ipython3",
   "version": "3.8.5"
  }
 },
 "nbformat": 4,
 "nbformat_minor": 4
}
